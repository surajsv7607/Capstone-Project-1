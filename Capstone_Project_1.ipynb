{
  "nbformat": 4,
  "nbformat_minor": 0,
  "metadata": {
    "colab": {
      "private_outputs": true,
      "provenance": [],
      "collapsed_sections": [
        "vncDsAP0Gaoa",
        "FJNUwmbgGyua",
        "w6K7xa23Elo4",
        "yQaldy8SH6Dl",
        "PH-0ReGfmX4f",
        "O_i_v8NEhb9l",
        "Y3lxredqlCYt",
        "3RnN4peoiCZX",
        "35m5QtbWiB9F",
        "FJkvorBRDMyc",
        "UKqDZYgHEZk4",
        "4QHFYHCqElAN",
        "Syq8MkG4E-vR",
        "XcwE23g1FdSm",
        "_atW7do3F0jv",
        "3RDDrdXcGXS5",
        "Eg9Hl-5uGm1Q",
        "1yINPewFG-40",
        "xMG3e9jpIfm5"
      ]
    },
    "kernelspec": {
      "name": "python3",
      "display_name": "Python 3"
    },
    "language_info": {
      "name": "python"
    }
  },
  "cells": [
    {
      "cell_type": "markdown",
      "source": [
        "# **Project Name**    - \n",
        "\n"
      ],
      "metadata": {
        "id": "vncDsAP0Gaoa"
      }
    },
    {
      "cell_type": "markdown",
      "source": [
        "**Exploratory Data Analysis on Google Play Store Apps**"
      ],
      "metadata": {
        "id": "Kht6s42k6dzW"
      }
    },
    {
      "cell_type": "markdown",
      "source": [
        "## **Project Type**    -  **EDA**\n",
        " \n",
        "## **Contribution**    - **Individual**\n"
      ],
      "metadata": {
        "id": "beRrZCGUAJYm"
      }
    },
    {
      "cell_type": "markdown",
      "source": [
        "# **Project Summary -**"
      ],
      "metadata": {
        "id": "FJNUwmbgGyua"
      }
    },
    {
      "cell_type": "markdown",
      "source": [
        "**Google Play Store or formerly Android Market, is a digital distribution service developed and operated by Google. It is an official apps store that provides variety content such as apps, books, magazines, music, movies and television programs. It serves an as platform to allow users with 'Google certified' Android operating system devices to download applications developed and published on the platform either with a charge or free of cost. With the rapidly growth of Android devices and apps, it would be interesting to perform data analysis on the data to obtain valuable reviews.**\n",
        "\n",
        "**The tools that are going to be used for this EDA would be numpy, pandas, matplotlib and seaborn which I have learnt from the course.**"
      ],
      "metadata": {
        "id": "F6v_1wHtG2nS"
      }
    },
    {
      "cell_type": "markdown",
      "source": [
        "# **GitHub Link -**"
      ],
      "metadata": {
        "id": "w6K7xa23Elo4"
      }
    },
    {
      "cell_type": "markdown",
      "source": [
        "https://github.com/surajsv7607/Capstone-Project-1/blob/main/Capstone_Project_1.ipynb"
      ],
      "metadata": {
        "id": "h1o69JH3Eqqn"
      }
    },
    {
      "cell_type": "markdown",
      "source": [
        "# **Index Of Contents**\n"
      ],
      "metadata": {
        "id": "yQaldy8SH6Dl"
      }
    },
    {
      "cell_type": "markdown",
      "source": [
        "\n",
        "\n",
        "*  Introduction\n",
        "\n",
        "*   Data Preparation and Cleaning\n",
        "\n",
        "\n",
        "*  Exploratory Analysis and Visualization\n",
        "\n",
        "*   Let’s have a look at the distribution of the ratings of the data frame.\n",
        "*    Let’s plot a visualization graph to view what portion of the apps in the play store are paid and free.\n",
        "\n",
        "\n",
        "*   Which category App’s have the most number of installs?\n",
        "\n",
        "* What are the Top 10 installed apps in any category?\n",
        "\n",
        "\n",
        "*  Which are the top 10 expensive Apps in the play store?\n",
        "\n",
        "*   Which are the Apps with the highest number of reviews?\n",
        "\n",
        "*  What are the count of Apps in different genres?\n",
        "*  Which are the apps that have made the highest-earning?\n",
        "\n",
        "\n",
        "* Inferences and Conclusion\n",
        "\n",
        "\n",
        "\n"
      ],
      "metadata": {
        "id": "DpeJGUA3kjGy"
      }
    },
    {
      "cell_type": "markdown",
      "source": [
        "# **Introduction**"
      ],
      "metadata": {
        "id": "PH-0ReGfmX4f"
      }
    },
    {
      "cell_type": "markdown",
      "source": [
        "There are more than 3.04 million apps found on Google Play Store. With this project/article I will take you through a journey of analyzing various apps found on the play store with the help of different python libraries."
      ],
      "metadata": {
        "id": "PhDvGCAqmjP1"
      }
    },
    {
      "cell_type": "markdown",
      "source": [
        "# ***Let's Begin !***"
      ],
      "metadata": {
        "id": "O_i_v8NEhb9l"
      }
    },
    {
      "cell_type": "markdown",
      "source": [
        "# **Import Libraries**"
      ],
      "metadata": {
        "id": "Y3lxredqlCYt"
      }
    },
    {
      "cell_type": "code",
      "source": [
        "# Import Libraries\n",
        "import numpy as np\n",
        "import pandas as pd\n",
        "import matplotlib.pyplot as plt\n",
        "import seaborn as sns\n",
        "%matplotlib inline"
      ],
      "metadata": {
        "id": "M8Vqi-pPk-HR"
      },
      "execution_count": null,
      "outputs": []
    },
    {
      "cell_type": "markdown",
      "source": [
        "# **Dataset Loading**"
      ],
      "metadata": {
        "id": "3RnN4peoiCZX"
      }
    },
    {
      "cell_type": "code",
      "source": [
        "# Load Dataset\n",
        "googlestore_df = pd.read_csv('/content/Play Store Data.csv')"
      ],
      "metadata": {
        "id": "4CkvbW_SlZ_R"
      },
      "execution_count": null,
      "outputs": []
    },
    {
      "cell_type": "markdown",
      "source": [
        "*After loading the dataset, we can start the exploration but before that, we need to check and see that the dataset is ready for performing several exploration operations or not, so let’s first have a look at the structure and the manner in which the data is organized.*"
      ],
      "metadata": {
        "id": "aPQvmXDs87jt"
      }
    },
    {
      "cell_type": "code",
      "source": [
        "googlestore_df.head(10)\n"
      ],
      "metadata": {
        "id": "LWNFOSvLl09H"
      },
      "execution_count": null,
      "outputs": []
    },
    {
      "cell_type": "markdown",
      "source": [
        "*To know if there is any missing value or Nan value in the dataset, we can use the isnull() function.*"
      ],
      "metadata": {
        "id": "7hBIi_osiCS2"
      }
    },
    {
      "cell_type": "code",
      "source": [
        "googlestore_df.isnull().sum()"
      ],
      "metadata": {
        "id": "Kllu7SJgmLij"
      },
      "execution_count": null,
      "outputs": []
    },
    {
      "cell_type": "markdown",
      "source": [
        "*So, we will need to prepare the dataset before performing exploratory data analysis on it.*"
      ],
      "metadata": {
        "id": "JlHwYmJAmNHm"
      }
    },
    {
      "cell_type": "markdown",
      "source": [
        "# **Data Preparation and Cleaning**"
      ],
      "metadata": {
        "id": "35m5QtbWiB9F"
      }
    },
    {
      "cell_type": "markdown",
      "source": [
        "*Data preparation is the process of cleaning and transforming raw data prior to processing and analysis. It is an important step prior to processing and often involves reformatting data, making corrections to data, and the combining of data sets to enrich data. Data cleansing or data cleaning is the process of detecting and correcting (or removing) corrupt or inaccurate records from a recordset, table, or database and refers to identifying incomplete, incorrect, inaccurate, or irrelevant parts of the data and then replacing, modifying, or deleting the dirty or coarse data.*\n",
        "\n",
        "*We saw that the dataset contains many Null or missing values. The column Rating, Type , Content Rating , Current Ver , andAndroid Ver contains 1474, 1, 1, 8, and 3 missing values respectively.*\n",
        "\n",
        "*Will it not be better if we can define a function to get more useful information about the different attributes of the dataset, also there is one more valid point in defining a function which it will be reusable, and we are going to utilize our defined function several times in future.*"
      ],
      "metadata": {
        "id": "PoPl-ycgm1ru"
      }
    },
    {
      "cell_type": "code",
      "source": [
        "def printinfo():\n",
        "    temp = pd.DataFrame(index=googlestore_df.columns)\n",
        "    temp['data_type'] = googlestore_df.dtypes\n",
        "    temp['null_count'] = googlestore_df.isnull().sum()\n",
        "    temp['unique_count'] = googlestore_df.nunique()\n",
        "    return temp"
      ],
      "metadata": {
        "id": "GgHWkxvamxVg"
      },
      "execution_count": null,
      "outputs": []
    },
    {
      "cell_type": "markdown",
      "source": [
        "*Let’s call the function and see what it returns:*"
      ],
      "metadata": {
        "id": "ZMcBDrj9-zs0"
      }
    },
    {
      "cell_type": "code",
      "source": [
        "printinfo()"
      ],
      "metadata": {
        "id": "3q5wnI3om9sJ"
      },
      "execution_count": null,
      "outputs": []
    },
    {
      "cell_type": "markdown",
      "source": [
        "*We have some useful information about the dataset. i.e., we can now see the missing number of values of any attribute, its unique count, and its respective data types.*\n",
        "\n",
        "*Now we can start the process of data cleaning, lets start with the column*"
      ],
      "metadata": {
        "id": "H0kj-8xxnORC"
      }
    },
    {
      "cell_type": "markdown",
      "source": [
        "Type :-"
      ],
      "metadata": {
        "id": "gfoNAAC-nUe_"
      }
    },
    {
      "cell_type": "code",
      "source": [
        "googlestore_df[googlestore_df.Type.isnull()]"
      ],
      "metadata": {
        "id": "E48PqU5d_L7i"
      },
      "execution_count": null,
      "outputs": []
    },
    {
      "cell_type": "markdown",
      "source": [
        "*Since there is only one missing value in this column, So, let’s fill the missing value. After cross-checking in the play store the missing value is found to be Free, So now we can fill the missing value with free .*"
      ],
      "metadata": {
        "id": "nA9Y7ga8ng1Z"
      }
    },
    {
      "cell_type": "code",
      "source": [
        "googlestore_df['Type'].fillna(\"Free\", inplace = True)"
      ],
      "metadata": {
        "id": "j7xfkqrt5Ag5"
      },
      "execution_count": null,
      "outputs": []
    },
    {
      "cell_type": "markdown",
      "source": [
        "*After filling the value we can check and see if that has been correctly placed.*"
      ],
      "metadata": {
        "id": "sH_z8E-q_bbf"
      }
    },
    {
      "cell_type": "code",
      "source": [
        "googlestore_df.isnull().sum()"
      ],
      "metadata": {
        "id": "DnOaZdaE5Q5t"
      },
      "execution_count": null,
      "outputs": []
    },
    {
      "cell_type": "markdown",
      "source": [
        "Now, we can move on to the column \n",
        " *Content Rating :*"
      ],
      "metadata": {
        "id": "PBTbrJXOngz2"
      }
    },
    {
      "cell_type": "code",
      "source": [
        "googlestore_df[googlestore_df['Content Rating'].isnull()]"
      ],
      "metadata": {
        "id": "j85C3ipK_zyH"
      },
      "execution_count": null,
      "outputs": []
    },
    {
      "cell_type": "markdown",
      "source": [
        "*We can clearly see that row 10472 has missing data for the Categorycolumn and all the prevailing column values are being replaced with its previous column. A better idea will be to drop this row from our data frame.*"
      ],
      "metadata": {
        "id": "dauF4eBmngu3"
      }
    },
    {
      "cell_type": "code",
      "source": [
        "googlestore_df.dropna(subset = ['Content Rating'], inplace=True)"
      ],
      "metadata": {
        "id": "wk-9a2fpoLcV"
      },
      "execution_count": null,
      "outputs": []
    },
    {
      "cell_type": "markdown",
      "source": [
        "*We are having some of the unwanted columns which will be of not much use in the analysis process. So let’s drop those columns.*"
      ],
      "metadata": {
        "id": "YpaRMukEAiII"
      }
    },
    {
      "cell_type": "code",
      "source": [
        "googlestore_df.drop(['Current Ver','Last Updated', 'Android Ver'], axis=1, inplace=True)"
      ],
      "metadata": {
        "id": "tqn3PSOIAnlS"
      },
      "execution_count": null,
      "outputs": []
    },
    {
      "cell_type": "markdown",
      "source": [
        "*Now, we can fix the Rating column which contains a total of 1474 of missing values. Replacing the missing values with the Modevalue of that entire column.*"
      ],
      "metadata": {
        "id": "hYQe9uScAuVT"
      }
    },
    {
      "cell_type": "code",
      "source": [
        "modeValueRating = googlestore_df['Rating'].mode()"
      ],
      "metadata": {
        "id": "7rbrqrZvAv6K"
      },
      "execution_count": null,
      "outputs": []
    },
    {
      "cell_type": "code",
      "source": [
        "googlestore_df['Rating'].fillna(value=modeValueRating[0], inplace = True)"
      ],
      "metadata": {
        "id": "C7J7r3ZPA0Q1"
      },
      "execution_count": null,
      "outputs": []
    },
    {
      "cell_type": "markdown",
      "source": [
        "*Finally, after fixing all the missing values, we should have a look at our data frame, We defined a function as printinfo() . So, it’s time to use that function.*"
      ],
      "metadata": {
        "id": "-yBLwJpnA5DB"
      }
    },
    {
      "cell_type": "code",
      "source": [
        "printinfo()"
      ],
      "metadata": {
        "id": "pHRgNMZLA6co"
      },
      "execution_count": null,
      "outputs": []
    },
    {
      "cell_type": "markdown",
      "source": [
        "*All the columns have the null_count as zero, which indicates that now the data frame doesn’t contain any missing values.*\n",
        "\n",
        "*Now we are done with the data cleansing part and in a state to start the work for data preparation*\n",
        "\n",
        "*Columns like Reviews, Size, Installs, & priceshould have an intor floatdatatype, But here we can see of objecttype, So let’s convert them to their respective correct type.*\n",
        "\n",
        "*Starting with the column Reviews , converting its type to int .* "
      ],
      "metadata": {
        "id": "ZZAnrpMzBDFi"
      }
    },
    {
      "cell_type": "code",
      "source": [
        "googlestore_df['Reviews'] = googlestore_df.Reviews.astype(int)"
      ],
      "metadata": {
        "id": "41jTKDhHBSKY"
      },
      "execution_count": null,
      "outputs": []
    },
    {
      "cell_type": "markdown",
      "source": [
        "*We can see that the changes have taken its effect or not by calling our printinfo() function.*"
      ],
      "metadata": {
        "id": "ikzp0FenBWtP"
      }
    },
    {
      "cell_type": "code",
      "source": [
        "printinfo()"
      ],
      "metadata": {
        "id": "R-KEV22-BZOA"
      },
      "execution_count": null,
      "outputs": []
    },
    {
      "cell_type": "markdown",
      "source": [
        "*Now, the reviews column has been converted to int type, so now we can move to the Column: Size*\n",
        "*Converting the Size Column from object to integer, but this column contains some of the special characters like , , + , M , K & also it has a some of the value as Varies with device . We need to remove all of these and then convert it to int or float .*\n",
        "\n",
        "Removing the +Symbol:"
      ],
      "metadata": {
        "id": "6RyaAvwIBezG"
      }
    },
    {
      "cell_type": "code",
      "source": [
        "googlestore_df['Size'] = googlestore_df.Size.apply(lambda x: x.strip('+'))# Removing the + Sign"
      ],
      "metadata": {
        "id": "fLl6wajgBmFR"
      },
      "execution_count": null,
      "outputs": []
    },
    {
      "cell_type": "markdown",
      "source": [
        "*Removing the , symbol:*"
      ],
      "metadata": {
        "id": "covZvqIFBp-2"
      }
    },
    {
      "cell_type": "code",
      "source": [
        "googlestore_df['Size'] = googlestore_df.Size.apply(lambda x: x.replace(',', ''))# For removing the `,`"
      ],
      "metadata": {
        "id": "t7OozcPQBtKe"
      },
      "execution_count": null,
      "outputs": []
    },
    {
      "cell_type": "markdown",
      "source": [
        "*Replacing the M symbol by multiplying the value with 1000000:*"
      ],
      "metadata": {
        "id": "FYVtgB_7Bw8P"
      }
    },
    {
      "cell_type": "code",
      "source": [
        "googlestore_df['Size'] = googlestore_df.Size.apply(lambda x: x.replace('M', 'e+6'))# For converting the M to Mega"
      ],
      "metadata": {
        "id": "PURglw4yB0I5"
      },
      "execution_count": null,
      "outputs": []
    },
    {
      "cell_type": "markdown",
      "source": [
        "*Replacing the k by multiplying the value with 1000:*+"
      ],
      "metadata": {
        "id": "XIu1L0uAB3dV"
      }
    },
    {
      "cell_type": "code",
      "source": [
        "googlestore_df['Size'] = googlestore_df.Size.apply(lambda x: x.replace('k', 'e+3'))# For convertinf the K to Kilo"
      ],
      "metadata": {
        "id": "GQm0Bu6yB4uG"
      },
      "execution_count": null,
      "outputs": []
    },
    {
      "cell_type": "markdown",
      "source": [
        "*Replacing the Varies with device value with Nan :*"
      ],
      "metadata": {
        "id": "0gWXoh2EB9AW"
      }
    },
    {
      "cell_type": "code",
      "source": [
        "googlestore_df['Size'] = googlestore_df.Size.replace('Varies with device', np.NaN)"
      ],
      "metadata": {
        "id": "zkRd9Fn3B-eX"
      },
      "execution_count": null,
      "outputs": []
    },
    {
      "cell_type": "markdown",
      "source": [
        "*Now, finally converting all these values to numeric type:*"
      ],
      "metadata": {
        "id": "i_-r6BkeCC2l"
      }
    },
    {
      "cell_type": "code",
      "source": [
        "googlestore_df['Size'] = pd.to_numeric(googlestore_df['Size']) # Converting the string to Numeric type"
      ],
      "metadata": {
        "id": "YytodHOGCECL"
      },
      "execution_count": null,
      "outputs": []
    },
    {
      "cell_type": "markdown",
      "source": [
        "*So, after performing all of these operations, we should have a detailed look at that column, so yes again we will call our useful function which we defined.* i.e., **printinfo()**"
      ],
      "metadata": {
        "id": "q6EK-8mOCIVY"
      }
    },
    {
      "cell_type": "code",
      "source": [
        "printinfo()"
      ],
      "metadata": {
        "id": "7LH7ZnqPCNo5"
      },
      "execution_count": null,
      "outputs": []
    },
    {
      "cell_type": "markdown",
      "source": [
        "*Since we converted the Varies with device value to Nan , so we have to do something with those set of Nan values data. It will be a better idea to drop the Rows of the column Size having Nanvalues because it will be not an efficient idea to replace those values with mean or mode since the size of some apps would be too large and some of them too small.*"
      ],
      "metadata": {
        "id": "1N_QO88BCSAx"
      }
    },
    {
      "cell_type": "code",
      "source": [
        "googlestore_df.dropna(subset = ['Size'], inplace=True)"
      ],
      "metadata": {
        "id": "zU5hs3NNCTs0"
      },
      "execution_count": null,
      "outputs": []
    },
    {
      "cell_type": "markdown",
      "source": [
        "*Column: Installs :\n",
        "To convert this column from object to integer type. First of all, we will need to remove the +symbol from these values.*"
      ],
      "metadata": {
        "id": "K2MfF5oXCZGS"
      }
    },
    {
      "cell_type": "code",
      "source": [
        "googlestore_df['Installs'] = googlestore_df.Installs.apply(lambda x: x.strip('+'))"
      ],
      "metadata": {
        "id": "FeGOawDSCaUe"
      },
      "execution_count": null,
      "outputs": []
    },
    {
      "cell_type": "markdown",
      "source": [
        "*and then let’s remove the , symbol from the numbers.*"
      ],
      "metadata": {
        "id": "cHOetBGeCedo"
      }
    },
    {
      "cell_type": "code",
      "source": [
        "googlestore_df['Installs'] = googlestore_df.Installs.apply(lambda x: x.replace(',', ''))"
      ],
      "metadata": {
        "id": "9Px0drcfCf_z"
      },
      "execution_count": null,
      "outputs": []
    },
    {
      "cell_type": "markdown",
      "source": [
        "*Lastly, we can now convert it from string type to numeric type, and then have a look at our dataset.*"
      ],
      "metadata": {
        "id": "6aJ3pUUZCkpK"
      }
    },
    {
      "cell_type": "code",
      "source": [
        "googlestore_df['Installs'] = pd.to_numeric(googlestore_df['Installs'])"
      ],
      "metadata": {
        "id": "gsmY-30qCmWP"
      },
      "execution_count": null,
      "outputs": []
    },
    {
      "cell_type": "code",
      "source": [
        "printinfo()"
      ],
      "metadata": {
        "id": "ZC2zFPhhCvRV"
      },
      "execution_count": null,
      "outputs": []
    },
    {
      "cell_type": "markdown",
      "source": [
        "*So, now we are only left with the Price column.\n",
        "Column: Price :\n",
        "Converting this column from objectto Numeric type.*"
      ],
      "metadata": {
        "id": "yPwkctqsCyXP"
      }
    },
    {
      "cell_type": "code",
      "source": [
        "googlestore_df['Price'].value_counts()"
      ],
      "metadata": {
        "id": "Gz760OXhC00W"
      },
      "execution_count": null,
      "outputs": []
    },
    {
      "cell_type": "markdown",
      "source": [
        "*The values contain a special symbol $ which can be removed and then converted to the numeric type.*"
      ],
      "metadata": {
        "id": "KadTwK8QC4-0"
      }
    },
    {
      "cell_type": "code",
      "source": [
        "googlestore_df['Price'] = googlestore_df.Price.apply(lambda x: x.strip('$'))"
      ],
      "metadata": {
        "id": "laCcPTIBC6YJ"
      },
      "execution_count": null,
      "outputs": []
    },
    {
      "cell_type": "code",
      "source": [
        "googlestore_df['Price'] = pd.to_numeric(googlestore_df['Price'])"
      ],
      "metadata": {
        "id": "0EQhuBbWC-GD"
      },
      "execution_count": null,
      "outputs": []
    },
    {
      "cell_type": "markdown",
      "source": [
        "*After fixing all the issues, we should have a final look at the data frame.*"
      ],
      "metadata": {
        "id": "37EV9c5rDBwj"
      }
    },
    {
      "cell_type": "code",
      "source": [
        "printinfo()"
      ],
      "metadata": {
        "id": "jLrwk0nKDDBl"
      },
      "execution_count": null,
      "outputs": []
    },
    {
      "cell_type": "markdown",
      "source": [
        "*Now, we are finally done. In this section Data Preparation and Cleaning. We can see that the original dataset contained 10841 Rows and 13 Columns. It contained App, Category, Rating, Reviews, Size, Installs, Type, Price, Content Rating, Genres, Last Updated, Curernt Ver, and Android VerColumns. But after cleansing the dataset and dropping the unwanted rows and columns having Null Values and Garbage data from the data frame, we are left with 8434 Rows and 10 Columns.*"
      ],
      "metadata": {
        "id": "Xay8a2SDDHJM"
      }
    },
    {
      "cell_type": "markdown",
      "source": [
        "# **Exploratory Analysis and Visualization**"
      ],
      "metadata": {
        "id": "FJkvorBRDMyc"
      }
    },
    {
      "cell_type": "markdown",
      "source": [
        "*In statistics, exploratory data analysis is an approach to analyzing data sets to summarize their main characteristics, often with visual methods. A statistical model can be used or not, but primarily EDA is for seeing what the data can tell us beyond the formal modeling or hypothesis testing task. Data visualization is the graphic representation of data. It involves producing images that communicate relationships among the represented data to viewers of the images. This communication is achieved through the use of a systematic mapping between graphic marks and data values in the creation of the visualization. This mapping establishes how data values will be represented visually, determining how and to what extent the property of a graphic mark, such as size or color, will change to reflect changes in the value of a datum.*\n",
        "\n",
        "**Let’s begin by importing matplotlib.pyplot and seaborn , and at the same time set our fig size, font size, etc.**"
      ],
      "metadata": {
        "id": "1wc6BmUuDVef"
      }
    },
    {
      "cell_type": "code",
      "source": [
        "import seaborn as sns\n",
        "import matplotlib\n",
        "import matplotlib.pyplot as plt\n",
        "%matplotlib inline\n",
        "\n",
        "sns.set_style('darkgrid')\n",
        "matplotlib.rcParams['font.size'] = 14\n",
        "matplotlib.rcParams['figure.figsize'] = (9, 5)\n",
        "matplotlib.rcParams['figure.facecolor'] = '#00000000'"
      ],
      "metadata": {
        "id": "lERTbNQzDdDq"
      },
      "execution_count": null,
      "outputs": []
    },
    {
      "cell_type": "markdown",
      "source": [
        "*Now it is time to unveil the real strength of data analysis, i.e., to get an insight, and learn the trend, pattern and get answers to some of the questions related to the dataset.*"
      ],
      "metadata": {
        "id": "LbLe2SHHDyCj"
      }
    },
    {
      "cell_type": "markdown",
      "source": [
        "**Can we see what are the top categories in the play store, which contains the highest number of apps?**  Well, let us try to."
      ],
      "metadata": {
        "id": "tNeiTcMUD1OL"
      }
    },
    {
      "cell_type": "code",
      "source": [
        "y = googlestore_df['Category'].value_counts().index\n",
        "x = googlestore_df['Category'].value_counts()\n",
        "xsis = []\n",
        "ysis = []\n",
        "for i in range(len(x)):\n",
        "    xsis.append(x[i])\n",
        "    ysis.append(y[i])"
      ],
      "metadata": {
        "id": "6QtuNhbcD7Ss"
      },
      "execution_count": null,
      "outputs": []
    },
    {
      "cell_type": "markdown",
      "source": [
        "*We have defined our x and y axis. Let us plot and see:-*"
      ],
      "metadata": {
        "id": "2r4-BCXrEBNq"
      }
    },
    {
      "cell_type": "code",
      "source": [
        "plt.figure(figsize=(18,13))\n",
        "plt.xlabel(\"Count\")\n",
        "plt.ylabel(\"Category\")\n",
        "\n",
        "graph = sns.barplot(x = xsis, y = ysis, palette= \"husl\")\n",
        "graph.set_title(\"Top categories on Google Playstore\", fontsize = 25);"
      ],
      "metadata": {
        "id": "vTveqvi0EC3o"
      },
      "execution_count": null,
      "outputs": []
    },
    {
      "cell_type": "markdown",
      "source": [
        "\n",
        "\n",
        "> So there are all total of 33 categories in the dataset from the above output we can come to the conclusion that in the play store most of the apps are under Family & Game category and least are of Beauty & Comics Category.\n",
        "\n"
      ],
      "metadata": {
        "id": "HdYL3BVoEJY-"
      }
    },
    {
      "cell_type": "markdown",
      "source": [
        "**Which category of Apps from the ‘Content Rating’ column is found more on the play store?**"
      ],
      "metadata": {
        "id": "0j4qFXhTEO77"
      }
    },
    {
      "cell_type": "code",
      "source": [
        "x2 = googlestore_df['Content Rating'].value_counts().index\n",
        "y2 = googlestore_df['Content Rating'].value_counts()\n",
        "\n",
        "x2sis = []\n",
        "y2sis = []\n",
        "for i in range(len(x2)):\n",
        "    x2sis.append(x2[i])\n",
        "    y2sis.append(y2[i])"
      ],
      "metadata": {
        "id": "-WVlquImEQJl"
      },
      "execution_count": null,
      "outputs": []
    },
    {
      "cell_type": "code",
      "source": [
        "plt.figure(figsize=(12,10))\n",
        "plt.bar(x2sis,y2sis,width=0.8,color=['#15244C','#FFFF48','#292734','#EF2920','#CD202D','#ECC5F2'], alpha=0.8);\n",
        "plt.title('Content Rating',size = 20);\n",
        "plt.ylabel('Apps(Count)');\n",
        "plt.xlabel('Content Rating');"
      ],
      "metadata": {
        "id": "zuUTXKt0EUtO"
      },
      "execution_count": null,
      "outputs": []
    },
    {
      "cell_type": "markdown",
      "source": [
        "\n",
        "\n",
        "> From the above plot, we can see that the Everyone category has the highest number of apps.\n",
        "\n",
        "# **Let’s have a look at the distribution of the ratings of the data frame.**\n",
        "\n"
      ],
      "metadata": {
        "id": "UKqDZYgHEZk4"
      }
    },
    {
      "cell_type": "code",
      "source": [
        "plt.figure(figsize=(15,9))\n",
        "plt.xlabel(\"Rating\")\n",
        "plt.ylabel(\"Frequency\")\n",
        "graph = sns.kdeplot(googlestore_df.Rating, color=\"Blue\", shade = True)\n",
        "plt.title('Distribution of Rating',size = 20);"
      ],
      "metadata": {
        "id": "yhndnrBaEfgU"
      },
      "execution_count": null,
      "outputs": []
    },
    {
      "cell_type": "markdown",
      "source": [
        "\n",
        "\n",
        ">From the above graph, we can come to the conclusion that most of the apps in the google play store are rated between 3.5 to 4.8.\n",
        "\n",
        "# **Let’s plot a visualization graph to view what portion of the apps in the play store are paid and free.**\n",
        "\n",
        "\n"
      ],
      "metadata": {
        "id": "4QHFYHCqElAN"
      }
    },
    {
      "cell_type": "code",
      "source": [
        "plt.figure(figsize=(10,10))\n",
        "labels = googlestore_df['Type'].value_counts(sort = True).index\n",
        "sizes = googlestore_df['Type'].value_counts(sort = True)\n",
        "colors = [\"blue\",\"lightgreen\"]\n",
        "explode = (0.2,0)\n",
        "plt.pie(sizes, explode=explode, labels=labels, colors=colors, autopct='%1.1f%%', shadow=True, startangle=0)\n",
        "plt.title('Percent of Free Vs Paid Apps in store',size = 20)\n",
        "plt.show()"
      ],
      "metadata": {
        "id": "RZAlzimHEpwS"
      },
      "execution_count": null,
      "outputs": []
    },
    {
      "cell_type": "markdown",
      "source": [
        "\n",
        "\n",
        "> From the above graph, we can see that 92%(Approx.) of apps in the google play store are free and 8%(Approx.) are paid.\n",
        "\n",
        "# **Which category App’s have the most number of installs?**\n",
        "\n",
        "*To answer this question we need to create a separate data frame out of our googlestore_df data frame which will contain a grouped value by Category and Installs .*\n",
        "\n"
      ],
      "metadata": {
        "id": "Syq8MkG4E-vR"
      }
    },
    {
      "cell_type": "code",
      "source": [
        "highest_Installs_df = googlestore_df.groupby('Category')[['Installs']].sum().sort_values(by='Installs', ascending=False)"
      ],
      "metadata": {
        "id": "eTSq77-HFKd0"
      },
      "execution_count": null,
      "outputs": []
    },
    {
      "cell_type": "markdown",
      "source": [
        "*Now, let us plot it out:*"
      ],
      "metadata": {
        "id": "9ynWx1q0FOXq"
      }
    },
    {
      "cell_type": "code",
      "source": [
        "x2sis = []\n",
        "y2sis = []\n",
        "\n",
        "for i in range(len(highest_Installs_df)):\n",
        "    x2sis.append(highest_Installs_df.Installs[i])\n",
        "    y2sis.append(highest_Installs_df.index[i])\n",
        "\n",
        "plt.figure(figsize=(18,13))\n",
        "\n",
        "plt.xlabel(\"Installs\")\n",
        "plt.ylabel(\"Category\")\n",
        "graph = sns.barplot(x = x2sis, y = y2sis, alpha =0.9, palette= \"viridis\")\n",
        "graph.set_title(\"Installs\", fontsize = 25);"
      ],
      "metadata": {
        "id": "YQs7xBNTFPlD"
      },
      "execution_count": null,
      "outputs": []
    },
    {
      "cell_type": "markdown",
      "source": [
        "\n",
        "\n",
        "> From the above visualization, it can be interpreted that the top categories with the highest installs are Game, Family, Communication, News & Magazines, & Tools.\n",
        "\n",
        "*We have done somewhat a good number of exploratory data analysis till now and in a state to finally answer some of the most common and in-demand questions which every App developer or any business company will love to know.*\n"
      ],
      "metadata": {
        "id": "S2emMC_-FXIn"
      }
    },
    {
      "cell_type": "markdown",
      "source": [
        "# **What are the Top 10 installed apps in any category?**"
      ],
      "metadata": {
        "id": "XcwE23g1FdSm"
      }
    },
    {
      "cell_type": "markdown",
      "source": [
        "*So, we have to be able to answer this not only for a single category but for many, i.e., we will need to define a function which should be able to return us a nice plot for any Category the name provided by any user as an argument to it.*"
      ],
      "metadata": {
        "id": "0S27gQFgFgcn"
      }
    },
    {
      "cell_type": "code",
      "source": [
        "def findtop10incategory(str):\n",
        "    str = str.upper()\n",
        "    top10 = googlestore_df[googlestore_df['Category'] == str]\n",
        "    top10apps = top10.sort_values(by='Installs', ascending=False).head(10)\n",
        "    # Top_Apps_in_art_and_design\n",
        "    plt.figure(figsize=(15,12))\n",
        "    plt.title('Top 10 Installed Apps',size = 20);    \n",
        "    graph = sns.barplot(x = top10apps.App, y = top10apps.Installs)\n",
        "    graph.set_xticklabels(graph.get_xticklabels(), rotation= 45, horizontalalignment='right');"
      ],
      "metadata": {
        "id": "b7r8bjvYFjqV"
      },
      "execution_count": null,
      "outputs": []
    },
    {
      "cell_type": "markdown",
      "source": [
        "*After we are done with defining the function, it’s time to check and see if everything is working fine. So let’s test it by passing Sports category to the above-defined function.*"
      ],
      "metadata": {
        "id": "GXjjlz3XFqPk"
      }
    },
    {
      "cell_type": "code",
      "source": [
        "findtop10incategory('Sports')"
      ],
      "metadata": {
        "id": "7h8m3IzZFrgG"
      },
      "execution_count": null,
      "outputs": []
    },
    {
      "cell_type": "markdown",
      "source": [
        "\n",
        "\n",
        "> From the above graph, we can see that in the Sports category FIFA Soccer, and Dream League Soccer 2018 has the highest installs. In the same way by passing different category names to the function, we can get the top 10 installed apps.\n",
        "\n"
      ],
      "metadata": {
        "id": "QOGINQvlFybJ"
      }
    },
    {
      "cell_type": "markdown",
      "source": [
        "# **Which are the top 10 expensive Apps in the play store?**\n",
        "\n",
        "\n",
        "\n",
        "We will again need to create a separate data frame."
      ],
      "metadata": {
        "id": "_atW7do3F0jv"
      }
    },
    {
      "cell_type": "code",
      "source": [
        "top10PaidApps = googlestore_df[googlestore_df['Type'] == 'Paid'].sort_values(by='Price', ascending=False).head(11)\n",
        "# top10PaidApps"
      ],
      "metadata": {
        "id": "6wnJqeusF_vg"
      },
      "execution_count": null,
      "outputs": []
    },
    {
      "cell_type": "markdown",
      "source": [
        "*From the above data frame, we will need to drop an app name, because its’ name will be creating a mess in the plot.*"
      ],
      "metadata": {
        "id": "zwqLrPAMGIOC"
      }
    },
    {
      "cell_type": "code",
      "source": [
        "top10PaidApps_df = top10PaidApps[['App', 'Installs']].drop(9934)"
      ],
      "metadata": {
        "id": "boptJCm3GK-o"
      },
      "execution_count": null,
      "outputs": []
    },
    {
      "cell_type": "markdown",
      "source": [
        "**So Finally let’s plot and visualize the top 10 paid apps on the play store.**"
      ],
      "metadata": {
        "id": "3gAVr9G8GOeA"
      }
    },
    {
      "cell_type": "code",
      "source": [
        "plt.figure(figsize=(15,12));\n",
        "plt.pie(top10PaidApps_df.Installs, explode=None, labels=top10PaidApps_df.App, autopct='%1.1f%%', startangle=0);\n",
        "plt.title('Top Expensive Apps Distribution',size = 20);\n",
        "plt.legend(top10PaidApps_df.App, \n",
        "           loc=\"lower right\",\n",
        "           title=\"Apps\",\n",
        "           fontsize = \"xx-small\"\n",
        "          );"
      ],
      "metadata": {
        "id": "7b7aXa5sGPwz"
      },
      "execution_count": null,
      "outputs": []
    },
    {
      "cell_type": "markdown",
      "source": [
        "\n",
        "\n",
        ">From the above graph, we can interpret that the App I am rich is the most expensive app in the google play store followed by I am Rich Premium. we also had to drop one-row data for this visualization because the language of the app was Chinese and it was messing with the pie chart, visualization.\n",
        "\n"
      ],
      "metadata": {
        "id": "xoVPt1w2GUW0"
      }
    },
    {
      "cell_type": "markdown",
      "source": [
        "# **Which are the Apps with the highest number of reviews?**"
      ],
      "metadata": {
        "id": "3RDDrdXcGXS5"
      }
    },
    {
      "cell_type": "code",
      "source": [
        "Apps_with_Highest_rev = googlestore_df.sort_values(by='Reviews', ascending=False).head(20)"
      ],
      "metadata": {
        "id": "B1EVo7NIGa4a"
      },
      "execution_count": null,
      "outputs": []
    },
    {
      "cell_type": "code",
      "source": [
        "Apps_with_Highest_rev"
      ],
      "metadata": {
        "id": "VNsl4ECaGeoX"
      },
      "execution_count": null,
      "outputs": []
    },
    {
      "cell_type": "markdown",
      "source": [
        "\n",
        "\n",
        ">From the above data frame we can interpret, and come to the conclusion that the Apps like Clash of Clans, Subway Surfers, Clash Royale, and Candy Crush Saga has the highest number of reviews on google play store.\n",
        "\n"
      ],
      "metadata": {
        "id": "gyh_wB3GGiqi"
      }
    },
    {
      "cell_type": "markdown",
      "source": [
        "# **What are the count of Apps in different genres?**\n",
        "\n",
        "\n",
        "\n",
        "By creating a data frame, let’s define our x and y axis, which will be required for plotting the graph."
      ],
      "metadata": {
        "id": "Eg9Hl-5uGm1Q"
      }
    },
    {
      "cell_type": "code",
      "source": [
        "topAppsinGenres = googlestore_df['Genres'].value_counts().head(50)"
      ],
      "metadata": {
        "id": "V-88xF4RGpZI"
      },
      "execution_count": null,
      "outputs": []
    },
    {
      "cell_type": "code",
      "source": [
        "x3sis = []\n",
        "y3sis = []\n",
        "\n",
        "for i in range(len(topAppsinGenres)):\n",
        "    x3sis.append(topAppsinGenres.index[i])\n",
        "    y3sis.append(topAppsinGenres[i])"
      ],
      "metadata": {
        "id": "UtuxUm8wGu4x"
      },
      "execution_count": null,
      "outputs": []
    },
    {
      "cell_type": "markdown",
      "source": [
        "*Finally, we are in a state to plot and gain an insight into our raised question.*"
      ],
      "metadata": {
        "id": "9EdhsQlzGx0R"
      }
    },
    {
      "cell_type": "code",
      "source": [
        "plt.figure(figsize=(15,9))\n",
        "plt.ylabel('Genres(App Count)')\n",
        "plt.xlabel('Genres')\n",
        "graph = sns.barplot(x=x3sis,y=y3sis,palette=\"deep\")\n",
        "graph.set_xticklabels(graph.get_xticklabels(), rotation=90, fontsize=12)\n",
        "graph.set_title(\"Top Genres in the Playstore\", fontsize = 20);"
      ],
      "metadata": {
        "id": "BWQzpKrYGy1-"
      },
      "execution_count": null,
      "outputs": []
    },
    {
      "cell_type": "markdown",
      "source": [
        "\n",
        "\n",
        ">From the above visualization, we can see that the Highest Number of Apps found in the Tools and Entertainment genres followed by Education, Medical and many more.\n",
        "\n"
      ],
      "metadata": {
        "id": "up04HLhrG435"
      }
    },
    {
      "cell_type": "markdown",
      "source": [
        "The last question which we are going to answer is:"
      ],
      "metadata": {
        "id": "a1NfHdDcG8EB"
      }
    },
    {
      "cell_type": "markdown",
      "source": [
        "# **Which are the apps that have made the highest-earning?**\n",
        "\n",
        "\n",
        "For answering these questions we will need to perform some extra operation to the data frame, i.e., we will need to create a separate data frame, and then multiply the Price column and the Installs column in order to get the earning of any particular app. So, let's start the process."
      ],
      "metadata": {
        "id": "1yINPewFG-40"
      }
    },
    {
      "cell_type": "code",
      "source": [
        "Paid_Apps_df = googlestore_df[googlestore_df['Type'] == 'Paid']"
      ],
      "metadata": {
        "id": "iIY4mTZ6HHO_"
      },
      "execution_count": null,
      "outputs": []
    },
    {
      "cell_type": "markdown",
      "source": [
        "*Now from the above data frame, we will need to separate out the columns which we will require.*"
      ],
      "metadata": {
        "id": "1mCylreBHK8H"
      }
    },
    {
      "cell_type": "code",
      "source": [
        "earning_df = Paid_Apps_df[['App', 'Installs', 'Price']]"
      ],
      "metadata": {
        "id": "fpNVbTBsHMCP"
      },
      "execution_count": null,
      "outputs": []
    },
    {
      "cell_type": "markdown",
      "source": [
        "*We can now add a separate column Earnings to our new data frame which we will create by multiplying the two-column Price and Installs .*"
      ],
      "metadata": {
        "id": "F6vVvz5RHQJl"
      }
    },
    {
      "cell_type": "code",
      "source": [
        "earning_df['Earnings'] = earning_df['Installs'] * earning_df['Price'];"
      ],
      "metadata": {
        "id": "KLAYvQlGHRVr"
      },
      "execution_count": null,
      "outputs": []
    },
    {
      "cell_type": "markdown",
      "source": [
        "*Now let us sort the above data by Earnings and Price .*"
      ],
      "metadata": {
        "id": "1guL7tYSMiJU"
      }
    },
    {
      "cell_type": "code",
      "source": [
        "earning_df_sorted_by_Earnings = earning_df.sort_values(by='Earnings', ascending=False).head(50)"
      ],
      "metadata": {
        "id": "nnYlXZONMm8L"
      },
      "execution_count": null,
      "outputs": []
    },
    {
      "cell_type": "code",
      "source": [
        "earning_df_sorted_by_Price = earning_df_sorted_by_Earnings.sort_values(by='Price', ascending=False)"
      ],
      "metadata": {
        "id": "5bhJxXZ6H-Ux"
      },
      "execution_count": null,
      "outputs": []
    },
    {
      "cell_type": "markdown",
      "source": [
        "Finally, we can plot the graph and find out which are the apps with the highest number of earnings."
      ],
      "metadata": {
        "id": "KBEWXzg3ICK_"
      }
    },
    {
      "cell_type": "code",
      "source": [
        "# PLot a bar chart of earning at y and app names at x\n",
        "plt.figure(figsize=(15,9))\n",
        "plt.bar(earning_df_sorted_by_Price.App, earning_df_sorted_by_Price.Earnings, width=1.1, label=earning_df_sorted_by_Price.Earnings)\n",
        "plt.xlabel(\"Apps\")\n",
        "plt.ylabel(\"Earnings\")\n",
        "plt.tick_params(rotation=90)\n",
        "plt.title(\"Top Earning Apps\");"
      ],
      "metadata": {
        "id": "ARFCNYIdIDGu"
      },
      "execution_count": null,
      "outputs": []
    },
    {
      "cell_type": "markdown",
      "source": [
        "**The top five apps with the highest earnings found on google play store are:-**\n",
        "\n",
        "* I am Rich\n",
        "\n",
        "*   I am Rich Premium\n",
        "* Hitman Sniper\n",
        "\n",
        "\n",
        "*  Grand Theft Auto: San Andreas\n",
        "\n",
        "* Facetune - For Free\n",
        "\n",
        "\n",
        "\n",
        "\n"
      ],
      "metadata": {
        "id": "UB7E5rBYILwJ"
      }
    },
    {
      "cell_type": "markdown",
      "source": [
        "**We have finally come to an end to our analysis, and hope that if you have reached till here it must have been interesting or useful to you.**"
      ],
      "metadata": {
        "id": "zqjENVp8IcNR"
      }
    },
    {
      "cell_type": "markdown",
      "source": [
        "# **Conclusion**"
      ],
      "metadata": {
        "id": "xMG3e9jpIfm5"
      }
    },
    {
      "cell_type": "markdown",
      "source": [
        "**After Analyzing the dataset we have got answers to some of the serious & interesting questions which any of the android users would love to know.**"
      ],
      "metadata": {
        "id": "kun9mWaYIoD3"
      }
    }
  ]
}